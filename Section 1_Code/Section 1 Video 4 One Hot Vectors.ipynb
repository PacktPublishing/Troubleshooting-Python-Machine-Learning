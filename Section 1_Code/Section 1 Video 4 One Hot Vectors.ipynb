{
 "cells": [
  {
   "cell_type": "code",
   "execution_count": 1,
   "metadata": {},
   "outputs": [],
   "source": [
    "toy_dataset = [\n",
    "    ['apple', 'orange', 'bananas'],\n",
    "    ['orange', 'peach', 'grapes', 'kiwi'],\n",
    "    ['apple', 'orange']\n",
    "]\n",
    "\n",
    "    apple orange bananas peach grapes kiwi\n",
    "d1  1     1      1       0     0      0\n",
    "d2  0     1      0       1     1      1\n",
    "d3  1     1      0       0     0      0"
   ]
  },
  {
   "cell_type": "code",
   "execution_count": 4,
   "metadata": {},
   "outputs": [],
   "source": [
    "toy_dataset = [\n",
    "    ['apple', 'orange', 'bananas'],\n",
    "    ['orange', 'peach', 'grapes', 'kiwi'],\n",
    "    ['apple', 'orange']\n",
    "]"
   ]
  },
  {
   "cell_type": "code",
   "execution_count": 5,
   "metadata": {},
   "outputs": [],
   "source": [
    "from sklearn.preprocessing import MultiLabelBinarizer\n",
    "feature_engineering_1 = MultiLabelBinarizer()"
   ]
  },
  {
   "cell_type": "code",
   "execution_count": 6,
   "metadata": {},
   "outputs": [
    {
     "data": {
      "text/plain": [
       "array([[1, 1, 0, 0, 1, 0],\n",
       "       [0, 0, 1, 1, 1, 1],\n",
       "       [1, 0, 0, 0, 1, 0]])"
      ]
     },
     "execution_count": 6,
     "metadata": {},
     "output_type": "execute_result"
    }
   ],
   "source": [
    "feature_engineering_1.fit_transform(toy_dataset)"
   ]
  }
 ],
 "metadata": {
  "kernelspec": {
   "display_name": "Python 3",
   "language": "python",
   "name": "python3"
  },
  "language_info": {
   "codemirror_mode": {
    "name": "ipython",
    "version": 3
   },
   "file_extension": ".py",
   "mimetype": "text/x-python",
   "name": "python",
   "nbconvert_exporter": "python",
   "pygments_lexer": "ipython3",
   "version": "3.6.2"
  }
 },
 "nbformat": 4,
 "nbformat_minor": 2
}
